{
  "nbformat": 4,
  "nbformat_minor": 0,
  "metadata": {
    "colab": {
      "name": "dReal4_Python3.ipynb",
      "version": "0.3.2",
      "provenance": []
    },
    "kernelspec": {
      "name": "python3",
      "display_name": "Python 3"
    }
  },
  "cells": [
    {
      "metadata": {
        "id": "Rm5STGo-U4uW",
        "colab_type": "text"
      },
      "cell_type": "markdown",
      "source": [
        "# Install dReal4"
      ]
    },
    {
      "metadata": {
        "id": "SikAb-UrTbKm",
        "colab_type": "code",
        "colab": {}
      },
      "cell_type": "code",
      "source": [
        "import pkgutil\n",
        "if not pkgutil.find_loader(\"dreal\"):\n",
        "  !curl https://raw.githubusercontent.com/dreal/dreal4/master/setup/ubuntu/20.04/install.sh | bash\n",
        "  !pip install dreal --upgrade"
      ],
      "execution_count": 0,
      "outputs": []
    },
    {
      "metadata": {
        "id": "4KTHudL_U-HI",
        "colab_type": "text"
      },
      "cell_type": "markdown",
      "source": [
        "# Example"
      ]
    },
    {
      "metadata": {
        "id": "Mdoob3dYTvaa",
        "colab_type": "code",
        "colab": {}
      },
      "cell_type": "code",
      "source": [
        "from dreal import *\n",
        "\n",
        "x = Variable(\"x\")\n",
        "y = Variable(\"y\")\n",
        "z = Variable(\"z\")\n",
        "\n",
        "f_sat = And(0 <= x, x <= 10,\n",
        "            0 <= y, y <= 10,\n",
        "            0 <= z, z <= 10,\n",
        "            sin(x) + cos(y) == z)\n",
        "\n",
        "result = CheckSatisfiability(f_sat, 0.001)\n",
        "print(result)"
      ],
      "execution_count": 0,
      "outputs": []
    }
  ]
}
